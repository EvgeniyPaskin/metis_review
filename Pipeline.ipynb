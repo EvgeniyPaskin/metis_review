{
 "cells": [
  {
   "cell_type": "markdown",
   "metadata": {},
   "source": [
    "Using the boston house-prices dataset, predict house prices given a set of features. Use pipeline in conjunction with f_regression, StandardScaler, and ElasticNet to find the optimal regression model.\n",
    "\n",
    "(Created by An for Metis review 2018)"
   ]
  },
  {
   "cell_type": "code",
   "execution_count": 7,
   "metadata": {},
   "outputs": [],
   "source": [
    "from sklearn.datasets import load_boston\n",
    "from sklearn.model_selection import train_test_split\n",
    "import numpy as np\n",
    "import pandas as pd\n",
    "\n",
    "boston = load_boston()\n",
    "X, y = pd.DataFrame(boston.data), boston.target\n",
    "X.columns = boston.feature_names\n",
    "X_data, X_holdout, y_data, y_holdout = train_test_split(X,y, test_size=.3, random_state=3)"
   ]
  },
  {
   "cell_type": "code",
   "execution_count": null,
   "metadata": {},
   "outputs": [],
   "source": [
    "# Use pipeline to:\n",
    "#   1. Standardize features\n",
    "#   2. Select features of significance using SelectKBest, passing f_regression (ANOVA test)\n",
    "#   3. Model with ElasticNet\n",
    "\n"
   ]
  },
  {
   "cell_type": "code",
   "execution_count": 9,
   "metadata": {},
   "outputs": [],
   "source": [
    "# 4. (Optional) Reinstantiate your pipe, then use GridSearchCV or\n",
    "# RandomizedGridCV to optimize ElasticNet hyperparams (alpha and l1_ratio)\n",
    "\n"
   ]
  },
  {
   "cell_type": "code",
   "execution_count": null,
   "metadata": {},
   "outputs": [],
   "source": [
    "# 5. (Extra sauce) Using all 13 features, plot score on y-axis vs l1_ratio on x-axis, for each value of alpha.\n",
    "\n"
   ]
  }
 ],
 "metadata": {
  "kernelspec": {
   "display_name": "Python 3",
   "language": "python",
   "name": "python3"
  },
  "language_info": {
   "codemirror_mode": {
    "name": "ipython",
    "version": 3
   },
   "file_extension": ".py",
   "mimetype": "text/x-python",
   "name": "python",
   "nbconvert_exporter": "python",
   "pygments_lexer": "ipython3",
   "version": "3.6.6"
  }
 },
 "nbformat": 4,
 "nbformat_minor": 2
}
