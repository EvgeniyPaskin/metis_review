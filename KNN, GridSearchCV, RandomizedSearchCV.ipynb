{
 "cells": [
  {
   "cell_type": "markdown",
   "metadata": {},
   "source": [
    "Using the sklearn breast cancer dataset, optimize a KNN algorithm to classify malignant v benign breast mass. Use GridSearchCV and RandomizedSearchCV to find the optimal KNN parameters.\n",
    "\n",
    "(Created by An for Metis review)"
   ]
  },
  {
   "cell_type": "code",
   "execution_count": null,
   "metadata": {},
   "outputs": [],
   "source": [
    "from sklearn.datasets import load_breast_cancer\n",
    "from sklearn.model_selection import train_test_split\n",
    "from sklearn.preprocessing import StandardScaler                                                \n",
    "import numpy as np\n",
    "import pandas as pd\n",
    "\n",
    "cancer = load_breast_cancer()\n",
    "X, y = pd.DataFrame(cancer.data), cancer.target\n",
    "X.columns = cancer.feature_names\n",
    "X_train, X_test, y_train, y_test = train_test_split(X,y, test_size=.4, random_state=0)"
   ]
  },
  {
   "cell_type": "code",
   "execution_count": null,
   "metadata": {},
   "outputs": [],
   "source": [
    "# Create a KNN classifer here. Set at least 4 parameters to a non-default value.\n"
   ]
  },
  {
   "cell_type": "code",
   "execution_count": null,
   "metadata": {},
   "outputs": [],
   "source": [
    "# Re-instantiate your classifer and search for best params with GridSearchCV\n",
    "# (Optional: graph results)\n"
   ]
  },
  {
   "cell_type": "code",
   "execution_count": null,
   "metadata": {},
   "outputs": [],
   "source": [
    "# Search for best params with RandomizedSearchCV\n"
   ]
  },
  {
   "cell_type": "code",
   "execution_count": null,
   "metadata": {},
   "outputs": [],
   "source": [
    "# (Optional) Re-train classifer and score with optimal params\n"
   ]
  }
 ],
 "metadata": {
  "kernelspec": {
   "display_name": "Python 3",
   "language": "python",
   "name": "python3"
  },
  "language_info": {
   "codemirror_mode": {
    "name": "ipython",
    "version": 3
   },
   "file_extension": ".py",
   "mimetype": "text/x-python",
   "name": "python",
   "nbconvert_exporter": "python",
   "pygments_lexer": "ipython3",
   "version": "3.6.6"
  }
 },
 "nbformat": 4,
 "nbformat_minor": 2
}
